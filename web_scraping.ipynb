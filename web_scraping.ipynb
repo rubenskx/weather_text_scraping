{
 "cells": [
  {
   "cell_type": "code",
   "execution_count": 79,
   "id": "fbf125dc",
   "metadata": {},
   "outputs": [],
   "source": [
    "import requests"
   ]
  },
  {
   "cell_type": "code",
   "execution_count": 80,
   "id": "0deaf5c1",
   "metadata": {},
   "outputs": [],
   "source": [
    "from bs4 import BeautifulSoup\n",
    "import smtplib\n",
    "import email.mime\n",
    "import datetime"
   ]
  },
  {
   "cell_type": "code",
   "execution_count": 83,
   "id": "f0bfe3a4",
   "metadata": {},
   "outputs": [],
   "source": [
    "import requests\n",
    "from bs4 import BeautifulSoup\n",
    "from urllib.request import urlopen\n",
    "import pyttsx3\n",
    "text_speech = pyttsx3.init()\n",
    "\n",
    "headers = {\n",
    "    'User-Agent':\"Mozilla/5.0 (Linux; Android 6.0; Nexus 5 Build/MRA58N) AppleWebKit/537.36 (KHTML, like Gecko) Chrome/94.0.4606.61 Mobile Safari/537.36 Edg/94.0.992.31'\"\n",
    "}\n",
    "\n",
    "\n",
    "import bs4\n",
    "\n",
    "url = \"https://www.bbc.com/weather/5128581\" #Enter the weather link of the city that needs to be checked\n",
    "cnt5=''\n",
    "cnt6=''\n",
    "cnt1 =''\n",
    "r = requests.get(url,{'headers':headers})\n",
    "soup = bs4.BeautifulSoup(r.text,\"html.parser\")\n",
    "tag = soup.find('h1', attrs={\"id\": \"wr-location-name-id\"})\n",
    "cnt1+=tag.text\n",
    "tag = soup.find('span', attrs={\"class\": \"wr-value--temperature--c\"})\n",
    "cnt5+=tag.text\n",
    "tag = soup.find('div', attrs={\"class\": \"wr-day__weather-type-description wr-js-day-content-weather-type-description wr-day__content__weather-type-description--opaque\"})\n",
    "cnt6+=tag.text\n",
    "final = \"The temperature is \"+ cnt5 + \" today \"\n",
    "text_speech.say(cnt1)\n",
    "text_speech.runAndWait()\n",
    "text_speech.say(final)\n",
    "text_speech.runAndWait()\n",
    "text_speech.say(cnt6)\n",
    "text_speech.runAndWait()\n",
    "\n",
    "\n"
   ]
  },
  {
   "cell_type": "code",
   "execution_count": null,
   "id": "35359a05",
   "metadata": {},
   "outputs": [],
   "source": []
  }
 ],
 "metadata": {
  "kernelspec": {
   "display_name": "Python 3",
   "language": "python",
   "name": "python3"
  },
  "language_info": {
   "codemirror_mode": {
    "name": "ipython",
    "version": 3
   },
   "file_extension": ".py",
   "mimetype": "text/x-python",
   "name": "python",
   "nbconvert_exporter": "python",
   "pygments_lexer": "ipython3",
   "version": "3.8.8"
  }
 },
 "nbformat": 4,
 "nbformat_minor": 5
}
